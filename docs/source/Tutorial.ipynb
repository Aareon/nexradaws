{
 "cells": [
  {
   "cell_type": "code",
   "execution_count": null,
   "metadata": {},
   "outputs": [],
   "source": [
    "%matplotlib inline\n",
    "import matplotlib.pyplot as plt\n",
    "import tempfile\n",
    "import pytz\n",
    "from datetime import datetime\n",
    "import pyart\n",
    "\n",
    "templocation = tempfile.mkdtemp()"
   ]
  },
  {
   "cell_type": "markdown",
   "metadata": {
    "collapsed": true
   },
   "source": [
    "# Tutorial"
   ]
  },
  {
   "cell_type": "markdown",
   "metadata": {},
   "source": [
    "This notebook is designed to show examples using the [nexradaws](http://nexradaws.readthedocs.io/en/latest/index.html) python module.\n",
    "The first thing we need to do is instantiate an instance of the NexradAwsInterface class. This class contains methods to query and download from the Nexrad Amazon S3 Bucket.\n",
    "\n",
    "This notebook uses Python 3.6 for it's examples."
   ]
  },
  {
   "cell_type": "code",
   "execution_count": null,
   "metadata": {
    "collapsed": true
   },
   "outputs": [],
   "source": [
    "import nexradaws\n",
    "conn = nexradaws.NexradAwsInterface()"
   ]
  },
  {
   "cell_type": "markdown",
   "metadata": {},
   "source": [
    "## Query methods\n",
    "\n",
    "Next we will test out some of the available query methods. There are methods to get the available years, months, days, and radars."
   ]
  },
  {
   "cell_type": "markdown",
   "metadata": {},
   "source": [
    "#### Get available years"
   ]
  },
  {
   "cell_type": "code",
   "execution_count": null,
   "metadata": {},
   "outputs": [],
   "source": [
    "years = conn.get_avail_years()\n",
    "print(years)"
   ]
  },
  {
   "cell_type": "markdown",
   "metadata": {},
   "source": [
    "#### Get available months in a year"
   ]
  },
  {
   "cell_type": "code",
   "execution_count": null,
   "metadata": {},
   "outputs": [],
   "source": [
    "months = conn.get_avail_months('2013')\n",
    "print(months)"
   ]
  },
  {
   "cell_type": "markdown",
   "metadata": {},
   "source": [
    "#### Get available days in a given year and month"
   ]
  },
  {
   "cell_type": "code",
   "execution_count": null,
   "metadata": {},
   "outputs": [],
   "source": [
    "days = conn.get_avail_days('2013','05')\n",
    "print(days)"
   ]
  },
  {
   "cell_type": "markdown",
   "metadata": {},
   "source": [
    "#### Get available radars in a given year, month, and day"
   ]
  },
  {
   "cell_type": "code",
   "execution_count": null,
   "metadata": {
    "scrolled": true
   },
   "outputs": [],
   "source": [
    "radars = conn.get_avail_radars('2013','05','31')\n",
    "print(radars)"
   ]
  },
  {
   "cell_type": "markdown",
   "metadata": {},
   "source": [
    "## Query for available scans\n",
    "\n",
    "There are two query methods to get available scans.\n",
    "* get_avail_scans() - returns all scans for a particular radar on a particular day\n",
    "* get_avail_scans_in_range() returns all scans for a particular radar between a start and end time\n",
    "\n",
    "Both methods return a list of [AwsNexradFile](http://nexradaws.readthedocs.io/en/latest/apidocs.html#nexradaws.resources.awsnexradfile.AwsNexradFile) objects that contain metadata about the NEXRAD file on AWS. These objects can then be downloaded by passing them to the download method which we will discuss next."
   ]
  },
  {
   "cell_type": "markdown",
   "metadata": {},
   "source": [
    "#### Get all scans for a radar on a given day"
   ]
  },
  {
   "cell_type": "code",
   "execution_count": null,
   "metadata": {
    "scrolled": true
   },
   "outputs": [],
   "source": [
    "availscans = conn.get_avail_scans('2013', '05', '31', 'KTLX')\n",
    "print(\"There are {} NEXRAD files available for May 31st, 2013 for the KTLX radar.\\n\".format(len(availscans)))\n",
    "print(availscans[0:4])"
   ]
  },
  {
   "cell_type": "markdown",
   "metadata": {},
   "source": [
    "#### Get all scans for a radar between a start and end time\n",
    "\n",
    "Now let's get all available scans between 5-7pm CST May 31, 2013 which is during the El Reno, OK tornado. The get_avail_scans_in_range method accepts datetime objects for the start and end time. \n",
    "\n",
    "If the passed datetime objects are timezone aware then it will convert them to UTC before query. If they are not timezone aware it will assume the passed datetime is in UTC."
   ]
  },
  {
   "cell_type": "code",
   "execution_count": null,
   "metadata": {},
   "outputs": [],
   "source": [
    "central_timezone = pytz.timezone('US/Central')\n",
    "radar_id = 'KTLX'\n",
    "start = central_timezone.localize(datetime(2013,5,31,17,0))\n",
    "end = central_timezone.localize (datetime(2013,5,31,19,0))\n",
    "scans = conn.get_avail_scans_in_range(start, end, radar_id)\n",
    "print(\"There are {} scans available between {} and {}\\n\".format(len(scans), start, end))\n",
    "print(scans[0:4])"
   ]
  },
  {
   "cell_type": "markdown",
   "metadata": {},
   "source": [
    "## Downloading Files\n",
    "\n",
    "Now let's download some radar files from our previous example. Let's download the first 4 scans from our query above."
   ]
  },
  {
   "cell_type": "code",
   "execution_count": null,
   "metadata": {},
   "outputs": [],
   "source": [
    "results = conn.download(scans[0:4], templocation)"
   ]
  },
  {
   "cell_type": "markdown",
   "metadata": {},
   "source": [
    "The download method returns a [DownloadResult](http://nexradaws.readthedocs.io/en/latest/apidocs.html#nexradaws.resources.downloadresults.DownloadResults) object. The success attribute returns a list of [LocalNexradFile](http://nexradaws.readthedocs.io/en/latest/apidocs.html#nexradaws.resources.localnexradfile.LocalNexradFile) objects that were successfully downloaded. There is also an iter_success method that creates a generator for easily looping through the objects."
   ]
  },
  {
   "cell_type": "code",
   "execution_count": null,
   "metadata": {},
   "outputs": [],
   "source": [
    "print(results.success)"
   ]
  },
  {
   "cell_type": "code",
   "execution_count": null,
   "metadata": {},
   "outputs": [],
   "source": [
    "for scan in results.iter_success():\n",
    "    print (\"{} volume scan time {}\".format(scan.radar_id,scan.scan_time))"
   ]
  },
  {
   "cell_type": "markdown",
   "metadata": {},
   "source": [
    "You can check for any failed downloads using the failed_count attribute. You can get a list of the failed [AwsNexradFile](http://nexradaws.readthedocs.io/en/latest/apidocs.html#nexradaws.resources.awsnexradfile.AwsNexradFile) objects by calling the failed attribute. There is also a generator method called iter_failed that can be used to loop through the failed objects."
   ]
  },
  {
   "cell_type": "code",
   "execution_count": null,
   "metadata": {},
   "outputs": [],
   "source": [
    "print(\"{} downloads failed.\".format(results.failed_count))"
   ]
  },
  {
   "cell_type": "code",
   "execution_count": null,
   "metadata": {},
   "outputs": [],
   "source": [
    "print(results.failed)"
   ]
  },
  {
   "cell_type": "markdown",
   "metadata": {},
   "source": [
    "## Working with LocalNexradFile objects\n",
    "\n",
    "Now that we have downloaded some files let's take a look at what is available with the [LocalNexradFile](http://nexradaws.readthedocs.io/en/latest/apidocs.html#nexradaws.resources.localnexradfile.LocalNexradFile) objects.\n",
    "\n",
    "These objects have attributes containing metadata about the local file including local filepath, last_modified (on AWS), filename, volume scan time, and radar id.\n",
    "\n",
    "There are two methods available on the LocalNexradFile to open the local file.\n",
    "* open() - returns a file object. Be sure to close the file object when done.\n",
    "* open_pyart() - if pyart is installed this will return a pyart Radar object.\n",
    "\n",
    "Let's look at an example of using pyart to open and plot our newly downloaded NEXRAD file from AWS. We will zoom into within 150km of the radar to see the storms a little better in these examples."
   ]
  },
  {
   "cell_type": "code",
   "execution_count": null,
   "metadata": {},
   "outputs": [],
   "source": [
    "fig = plt.figure(figsize=(16,12))\n",
    "for i,scan in enumerate(results.iter_success(),start=1):\n",
    "    ax = fig.add_subplot(2,2,i)\n",
    "    radar = scan.open_pyart()\n",
    "    display = pyart.graph.RadarDisplay(radar)\n",
    "    display.plot('reflectivity',0,ax=ax,title=\"{} {}\".format(scan.radar_id,scan.scan_time))\n",
    "    display.set_limits((-150, 150), (-150, 150), ax=ax)"
   ]
  },
  {
   "cell_type": "markdown",
   "metadata": {},
   "source": [
    "Now lets plot velocity data for the same scans."
   ]
  },
  {
   "cell_type": "code",
   "execution_count": null,
   "metadata": {},
   "outputs": [],
   "source": [
    "fig = plt.figure(figsize=(16,12))\n",
    "for i,scan in enumerate(results.iter_success(),start=1):\n",
    "    ax = fig.add_subplot(2,2,i)\n",
    "    radar = scan.open_pyart()\n",
    "    display = pyart.graph.RadarDisplay(radar)\n",
    "    display.plot('velocity',1,ax=ax,title=\"{} {}\".format(scan.radar_id,scan.scan_time))\n",
    "    display.set_limits((-150, 150), (-150, 150), ax=ax)"
   ]
  }
 ],
 "metadata": {
  "kernelspec": {
   "display_name": "Python 3",
   "language": "python",
   "name": "python3"
  },
  "language_info": {
   "codemirror_mode": {
    "name": "ipython",
    "version": 3
   },
   "file_extension": ".py",
   "mimetype": "text/x-python",
   "name": "python",
   "nbconvert_exporter": "python",
   "pygments_lexer": "ipython3",
   "version": "3.6.1"
  }
 },
 "nbformat": 4,
 "nbformat_minor": 1
}
